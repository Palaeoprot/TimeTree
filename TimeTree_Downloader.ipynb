{
  "nbformat": 4,
  "nbformat_minor": 0,
  "metadata": {
    "colab": {
      "provenance": [],
      "authorship_tag": "ABX9TyPgUNY8E8+R+Gs/RKQPQN2D",
      "include_colab_link": true
    },
    "kernelspec": {
      "name": "python3",
      "display_name": "Python 3"
    },
    "language_info": {
      "name": "python"
    }
  },
  "cells": [
    {
      "cell_type": "markdown",
      "metadata": {
        "id": "view-in-github",
        "colab_type": "text"
      },
      "source": [
        "<a href=\"https://colab.research.google.com/github/Palaeoprot/TimeTree/blob/main/TimeTree_Downloader.ipynb\" target=\"_parent\"><img src=\"https://colab.research.google.com/assets/colab-badge.svg\" alt=\"Open In Colab\"/></a>"
      ]
    },
    {
      "cell_type": "markdown",
      "source": [
        "# Cell 1 – Introduction & Environment Setup\n",
        "\n",
        "## 🌳 TimeTree Newick File Downloader\n",
        "\n",
        "This notebook automates the process of downloading phylogenetic trees in the **Newick (`.nwk`) format** from [TimeTree.org](http://timetree.org/). This is a necessary preliminary step for integrating divergence date information into our main ZooMS taxonomy analysis.\n",
        "\n",
        "**Why is this separate script needed?**\n",
        "TimeTree does not provide a simple public API for bulk data downloads. This script works by programmatically simulating the web request a user's browser makes when they click the \"Download\" button for a Newick file.\n",
        "\n",
        "**What this cell does:**\n",
        "*   **Installs Packages:** It ensures the `requests` library, used for making web requests, is installed.\n",
        "*   **Imports Libraries:** It imports all the necessary tools.\n",
        "*   **Connects to Google Drive:** It requests permission to mount your Google Drive, allowing the notebook to save the downloaded files directly to your project folder.\n",
        "\n",
        "**⚠️ Important Note on Responsible Use:**\n",
        "This script sends automated requests to the TimeTree server. A delay between requests has been added to be a \"polite\" web citizen and avoid overwhelming their server. Please use this tool responsibly and for academic purposes."
      ],
      "metadata": {
        "id": "DmsGAH1HH64A"
      }
    },
    {
      "cell_type": "code",
      "source": [
        "# ===== Cell 1 =====\n",
        "# Environment Setup\n",
        "\n",
        "print(\"🌳 TimeTree Downloader - Environment Setup\")\n",
        "print(\"=\" * 50)\n",
        "\n",
        "# Install required packages\n",
        "!pip install -q requests\n",
        "\n",
        "# Import necessary libraries\n",
        "import requests\n",
        "from pathlib import Path # Import Path from pathlib\n",
        "import time\n",
        "from google.colab import drive\n",
        "\n",
        "# Mount Google Drive\n",
        "try:\n",
        "    drive.mount('/content/drive')\n",
        "    print(\"✅ Google Drive mounted successfully.\")\n",
        "except Exception as e:\n",
        "    print(f\"❌ Google Drive mount failed: {e}\")\n",
        "\n",
        "print(\"\\n✅ Setup complete. Proceed to Cell 2 to configure the download list.\")"
      ],
      "metadata": {
        "colab": {
          "base_uri": "https://localhost:8080/"
        },
        "id": "NjRcxa4WH-3j",
        "outputId": "8166d2fe-2c82-49e6-8c25-e059a94d080e"
      },
      "execution_count": 4,
      "outputs": [
        {
          "output_type": "stream",
          "name": "stdout",
          "text": [
            "🌳 TimeTree Downloader - Environment Setup\n",
            "==================================================\n",
            "Drive already mounted at /content/drive; to attempt to forcibly remount, call drive.mount(\"/content/drive\", force_remount=True).\n",
            "✅ Google Drive mounted successfully.\n",
            "\n",
            "✅ Setup complete. Proceed to Cell 2 to configure the download list.\n"
          ]
        }
      ]
    },
    {
      "cell_type": "markdown",
      "source": [
        "# Cell 2 – Configuration\n",
        "\n",
        "## 🎯 Configure Your Downloads\n",
        "\n",
        "This is the **only cell you need to edit**. Select the list of taxonomic clades you want to download from the dropdown menu and ensure the output directory is correct.\n",
        "\n",
        "**Instructions:**\n",
        "1.  **`SELECTED_CLADES`:** Click the dropdown to select one or more clades. To select multiple, hold `Ctrl` (on Windows/Linux) or `Cmd` (on Mac) while clicking.\n",
        "2.  **Advanced Users:** You can also click into the dropdown field and type a custom clade name (e.g., \"Carnivora\") that is not on the list.\n",
        "3.  **`OUTPUT_DIRECTORY`:** This path **must exactly match** the path you configured in your main analysis notebook so it can find the files later. It should point to the `TimeTree_Newick_Files` folder inside your project directory."
      ],
      "metadata": {
        "id": "o1sah3nmKtV-"
      }
    },
    {
      "cell_type": "code",
      "source": [
        "# ===== Cell 2 =====\n",
        "# Configuration\n",
        "\n",
        "# @title 1. Select Target Clades\n",
        "# @markdown Select one or more vertebrate clades from the list. Hold Ctrl/Cmd to select multiple. You can also type in a custom value.\n",
        "SELECTED_CLADES = \"Mammalia (mammals)\" # @param [\"Myxini (hagfish)\", \"Petromyzontida (lampreys)\", \"Chondrichthyes (cartilaginous fish)\", \"Actinopterygii (ray-finned fish)\", \"Dipnoi (lungfish)\", \"Actinistia (coelacanths)\", \"Amphibia (amphibians)\", \"Testudines (turtles)\", \"Lepidosauria (lizards, snakes, tuatara)\", \"Crocodylia (crocodilians)\", \"Aves (birds)\", \"Mammalia (mammals)\"] {allow-input: true}\n",
        "\n",
        "\n",
        "# @title 2. Output Directory\n",
        "# @markdown Enter the full path to the directory where the Newick files will be saved.\n",
        "OUTPUT_DIRECTORY = \"/content/drive/MyDrive/Colab_Notebooks/GitHub/_SHARED_DATA/FASTA/ZooMS_Taxonomy/TimeTree_Newick_Files\" #@param {type:\"string\"}\n",
        "\n",
        "# @title 3. Download Delay\n",
        "# @markdown Delay in seconds between each download request to be polite to the server.\n",
        "DOWNLOAD_DELAY_SECONDS = 5 #@param {type:\"slider\", min:1, max:10, step:1}\n",
        "\n",
        "# --- End of Configuration ---\n",
        "\n",
        "# The multi-select param directly gives us a list of strings.\n",
        "# We just need to clean up any potential extra whitespace from manual entries.\n",
        "clade_list = [clade.strip() for clade in SELECTED_CLADES if clade.strip()]\n",
        "output_path = Path(OUTPUT_DIRECTORY)\n",
        "\n",
        "# Create the output directory if it doesn't exist\n",
        "output_path.mkdir(parents=True, exist_ok=True)\n",
        "\n",
        "print(f\"✅ Configuration loaded.\")\n",
        "if not clade_list:\n",
        "    print(\"   ⚠️ No clades selected. The next cell will have nothing to download.\")\n",
        "else:\n",
        "    print(f\"   Target clades to download ({len(clade_list)}): {', '.join(clade_list)}\")\n",
        "    print(f\"   Output directory: {output_path}\")"
      ],
      "metadata": {
        "id": "Puq8zt5XK9e6"
      },
      "execution_count": null,
      "outputs": []
    },
    {
      "cell_type": "markdown",
      "source": [
        "# Cell 3 – Main Execution\n",
        "\n",
        "## 🚀 Download The Files\n",
        "\n",
        "This cell is the \"run\" button. It will iterate through the list of clades you configured in Cell 2 and attempt to download a Newick file for each one.\n",
        "\n",
        "**The Process:**\n",
        "1.  It loops through each clade name.\n",
        "2.  For each name, it constructs and sends a `POST` request to the TimeTree server, mimicking a browser.\n",
        "3.  It checks if the server's response contains valid Newick data.\n",
        "4.  If successful, it saves the data to a `.nwk` file in your specified output directory.\n",
        "5.  If it fails (e.g., the clade is not found on TimeTree), it prints an error message and moves to the next one.\n",
        "6.  It waits for the configured delay before starting the next download."
      ],
      "metadata": {
        "id": "pUsUYRewLmMk"
      }
    },
    {
      "cell_type": "code",
      "source": [
        "# ===== Cell 3 =====\n",
        "# Main Execution\n",
        "\n",
        "def download_newick_from_timetree(clade_name: str, save_path: Path):\n",
        "    \"\"\"\n",
        "    Sends a POST request to TimeTree to download the Newick file for a given clade.\n",
        "    \"\"\"\n",
        "    print(f\"-> Attempting to download: '{clade_name}'...\")\n",
        "\n",
        "    # This is the URL endpoint that handles the download request\n",
        "    url = \"https://timetree.org/home\"\n",
        "\n",
        "    # This payload mimics the form data sent by a browser when clicking the download button\n",
        "    payload = {\n",
        "        'newick_str': 'Get Newick',\n",
        "        'tree_type': 'species',\n",
        "        'taxon_search': clade_name\n",
        "    }\n",
        "\n",
        "    try:\n",
        "        # Make the POST request\n",
        "        response = requests.post(url, data=payload, timeout=30)\n",
        "        response.raise_for_status()  # Raise an exception for bad status codes (like 404, 500)\n",
        "\n",
        "        # Validate the response content to ensure it's a Newick file\n",
        "        if response.text and response.text.strip().startswith(\"(\") and response.text.strip().endswith(\";\"):\n",
        "            # Construct the output file path\n",
        "            file_path = save_path / f\"{clade_name.replace(' ', '_')}.nwk\"\n",
        "\n",
        "            # Write the content to the file\n",
        "            with open(file_path, 'w', encoding='utf-8') as f:\n",
        "                f.write(response.text)\n",
        "\n",
        "            print(f\"   ✅ Success! Saved to {file_path.name}\")\n",
        "            return True\n",
        "        else:\n",
        "            print(f\"   ⚠️ Failed. The server's response for '{clade_name}' was not a valid Newick tree.\")\n",
        "            return False\n",
        "\n",
        "    except requests.exceptions.RequestException as e:\n",
        "        print(f\"   ❌ Failed. A network error occurred for '{clade_name}': {e}\")\n",
        "        return False\n",
        "\n",
        "# --- Main Download Loop ---\n",
        "\n",
        "if not clade_list:\n",
        "    print(\"No clades configured in Cell 2. Nothing to download.\")\n",
        "else:\n",
        "    print(f\"\\n🚀 Starting download of {len(clade_list)} Newick files...\")\n",
        "    print(\"=\" * 50)\n",
        "\n",
        "    success_count = 0\n",
        "    failure_count = 0\n",
        "\n",
        "    for i, clade in enumerate(clade_list):\n",
        "        if download_newick_from_timetree(clade, output_path):\n",
        "            success_count += 1\n",
        "        else:\n",
        "            failure_count += 1\n",
        "\n",
        "        # Don't sleep after the very last request\n",
        "        if i < len(clade_list) - 1:\n",
        "            print(f\"   ...waiting for {DOWNLOAD_DELAY_SECONDS} seconds...\")\n",
        "            time.sleep(DOWNLOAD_DELAY_SECONDS)\n",
        "\n",
        "    print(\"\\n\" + \"=\"*50)\n",
        "    print(\"✨ Download process complete!\")\n",
        "    print(f\"   Successfully downloaded: {success_count}\")\n",
        "    print(f\"   Failed to download: {failure_count}\")"
      ],
      "metadata": {
        "id": "rrysY8jvIiV4"
      },
      "execution_count": null,
      "outputs": []
    }
  ]
}